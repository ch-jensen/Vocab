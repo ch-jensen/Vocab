{
 "cells": [
  {
   "cell_type": "markdown",
   "metadata": {},
   "source": [
    "# Vocabulary training"
   ]
  },
  {
   "cell_type": "markdown",
   "metadata": {},
   "source": [
    "This is a training program for exercising Biblical vocabulary (Hebrew and Aramaic). As any language learner will know, vocabulary practicing is an almost endless endeavour. It is the assumption of this program that there is hardly no such thing as \"knowing\" a lexeme. Rather, a lexeme is either cognitively *active* or *inactive*. An *active* lexeme is defined here as a lexeme that has been practicised relatively recently, with a short response time, and with a low record of mistaken responses. By contrast, an *inactive* lexeme was practiced relatively long time ago, with a long response time, and/or with a high record of mistaken responses. This program essentially applies an algorithm that aims to predict which words are the most difficult for you and let you practice those instead of those which are already active in your vocabulary. Another feature of this program is that you are not practicing dictionary forms of the lexemes but those forms that actually exist in the Hebrew Bible. In doing so, you should be well-equiped for reading the real text."
   ]
  },
  {
   "cell_type": "markdown",
   "metadata": {},
   "source": [
    "Run the following cells to launch the program:"
   ]
  },
  {
   "cell_type": "code",
   "execution_count": null,
   "metadata": {},
   "outputs": [],
   "source": [
    "from Vocab import TrainVocab"
   ]
  },
  {
   "cell_type": "code",
   "execution_count": null,
   "metadata": {
    "scrolled": false
   },
   "outputs": [],
   "source": [
    "a = TrainVocab()"
   ]
  },
  {
   "cell_type": "markdown",
   "metadata": {},
   "source": [
    "### Train"
   ]
  },
  {
   "cell_type": "code",
   "execution_count": null,
   "metadata": {},
   "outputs": [],
   "source": [
    "a.Test()"
   ]
  },
  {
   "cell_type": "markdown",
   "metadata": {},
   "source": [
    "#### Overall stats"
   ]
  },
  {
   "cell_type": "code",
   "execution_count": null,
   "metadata": {},
   "outputs": [],
   "source": [
    "a.Stats()"
   ]
  },
  {
   "cell_type": "markdown",
   "metadata": {},
   "source": [
    "#### Most difficult lexemes\n",
    "\n",
    "Lexemes with highest level:"
   ]
  },
  {
   "cell_type": "code",
   "execution_count": null,
   "metadata": {},
   "outputs": [],
   "source": [
    "a.df['level'] = a.df.apply(lambda x: a.getLevel(x['lex']), axis=1) #Calculating level for each lex\n",
    "a.df.sort_values(by='level', ascending=False)[:10] #Choosing lex with highest level"
   ]
  },
  {
   "cell_type": "markdown",
   "metadata": {},
   "source": [
    "Lexemes repeated most times:"
   ]
  },
  {
   "cell_type": "code",
   "execution_count": null,
   "metadata": {},
   "outputs": [],
   "source": [
    "a.df.sort_values(by='rep', ascending=False)[:10]"
   ]
  }
 ],
 "metadata": {
  "kernelspec": {
   "display_name": "Python 3 (ipykernel)",
   "language": "python",
   "name": "python3"
  },
  "language_info": {
   "codemirror_mode": {
    "name": "ipython",
    "version": 3
   },
   "file_extension": ".py",
   "mimetype": "text/x-python",
   "name": "python",
   "nbconvert_exporter": "python",
   "pygments_lexer": "ipython3",
   "version": "3.9.7"
  }
 },
 "nbformat": 4,
 "nbformat_minor": 2
}
